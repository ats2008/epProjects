{
 "cells": [
  {
   "cell_type": "code",
   "execution_count": 2,
   "metadata": {
    "code_folding": [
     11
    ]
   },
   "outputs": [],
   "source": [
    "from matplotlib import pyplot as plt\n",
    "import matplotlib\n",
    "\n",
    "import uproot as urt\n",
    "\n",
    "import numpy as np\n",
    "\n",
    "import awkward as ak\n",
    "\n",
    "import h5py\n",
    "\n",
    "def exportTree(final_dataset,treeNameToExport,export_filename): \n",
    "    export_file = urt.recreate(export_filename)\n",
    "    print(\"\\n\\t  file exported  : \",export_filename)\n",
    "    allBranchesToWrite={ ky : final_dataset[ky].dtype for ky in final_dataset}\n",
    "    export_file.mktree( treeNameToExport ,allBranchesToWrite)\n",
    "    export_file[treeNameToExport].extend(final_dataset)\n",
    "    export_file.close()"
   ]
  },
  {
   "cell_type": "markdown",
   "metadata": {},
   "source": [
    "# Skim the Raw dataset to the variables required for the Regression"
   ]
  },
  {
   "cell_type": "markdown",
   "metadata": {},
   "source": [
    "#### Electron Energy Regression in High-Granularity Calorimeter Prototype [1]\n",
    "- Bhargav Joshi; Alpana Alpana\n",
    "\n",
    "    The dataset consists of simulations of calibrated reconstructed hits produced by a positron passing through the HGCAL test beam prototype. For the simulations, Monte Carlo method is used to produce the positrons with energy ranging from 20 to 350 GeV. The dataset contains the coordinates of the calibrated reconstructed hits in the prototype along with the calibrated energy in units of MIP. The HDF5 files can be extracted from the gzip files.\n",
    "    \n",
    "we recomend using the [hgcal_electron_data_0001.h5.gz](https://zenodo.org/record/7504164) with ~600k Events for the study    \n",
    "\n",
    "[1] Bhargav Joshi, & Alpana Alpana. (2023). Electron Energy Regression in High-Granularity Calorimeter Prototype (Version v1) [Data set]. Zenodo. https://doi.org/10.5281/zenodo.7504164"
   ]
  },
  {
   "cell_type": "markdown",
   "metadata": {},
   "source": [
    "## Detector Metadata\n",
    "\n",
    "- from [alpana-hep](https://github.com/alpana-hep/Hgcal_testbeam_analysis_2021/blob/baseline_code/config1_lengths.txt) "
   ]
  },
  {
   "cell_type": "code",
   "execution_count": 129,
   "metadata": {
    "code_folding": [
     1,
     9
    ]
   },
   "outputs": [],
   "source": [
    "txt=None\n",
    "detectorLayers={\n",
    "    'layerID':[],\n",
    "    'z':[],\n",
    "    'lambdaEM':[],\n",
    "    'lambdaNu':[],\n",
    "    'lambdaPion':[]\n",
    "}\n",
    "\n",
    "with open('../metadata/config1_lengths.txt') as f :\n",
    "    txt=f.readlines()\n",
    "if txt:\n",
    "    for l in txt:\n",
    "        if l.strip()[0]=='#':\n",
    "            continue\n",
    "        items=l[:-1].split('\\t')\n",
    "        detectorLayers['layerID'].append(int(items[0]))\n",
    "        detectorLayers['z'].append(float(items[1]))\n",
    "        detectorLayers['lambdaEM'].append(float(items[2]))\n",
    "        detectorLayers['lambdaNu'].append(float(items[3]))\n",
    "        detectorLayers['lambdaPion'].append(float(items[4]))\n",
    "else:\n",
    "    print(\"Please provide correct layer-z data file ! \")\n"
   ]
  },
  {
   "cell_type": "markdown",
   "metadata": {},
   "source": [
    "### Loading the Base dataset"
   ]
  },
  {
   "cell_type": "code",
   "execution_count": 132,
   "metadata": {},
   "outputs": [],
   "source": [
    "f = h5py.File('../workarea/hgcal_electron_data_0001.h5', 'r')\n",
    "\n",
    "NEVTS=20000\n",
    "nRecHits=np.array(f['nhits'][:NEVTS],dtype=int)\n",
    "N=int(np.sum(nRecHits))\n",
    "\n",
    "recHit_en=f['rechit_energy'][:N]\n",
    "recHit_x =f['rechit_x'][:N]\n",
    "recHit_y =f['rechit_y'][:N]\n",
    "recHit_z =f['rechit_z'][:N]\n",
    "target =f['target'][:NEVTS]"
   ]
  },
  {
   "cell_type": "code",
   "execution_count": 101,
   "metadata": {},
   "outputs": [],
   "source": [
    "events={\n",
    "    'nRecHits'  : nRecHits,\n",
    "    'target'  : target,\n",
    "    'recHit_en' : ak.unflatten(recHit_en,nRecHits),\n",
    "    'recHit_x'  : ak.unflatten(recHit_x,nRecHits),\n",
    "    'recHit_y'  : ak.unflatten(recHit_y,nRecHits),\n",
    "    'recHit_z'  : ak.unflatten(recHit_z,nRecHits)*10\n",
    "}"
   ]
  },
  {
   "cell_type": "markdown",
   "metadata": {},
   "source": [
    "## Energy Distribution"
   ]
  },
  {
   "cell_type": "code",
   "execution_count": 102,
   "metadata": {},
   "outputs": [],
   "source": [
    "rechit_energy=f.get('rechit_energy')\n",
    "nhits=f.get('nhits')\n",
    "target=f.get('target')"
   ]
  },
  {
   "cell_type": "code",
   "execution_count": 103,
   "metadata": {},
   "outputs": [],
   "source": [
    "targetArr=target[:]"
   ]
  },
  {
   "cell_type": "code",
   "execution_count": 104,
   "metadata": {},
   "outputs": [
    {
     "data": {
      "text/plain": [
       "<matplotlib.legend.Legend at 0x7fef82f5a5b0>"
      ]
     },
     "execution_count": 104,
     "metadata": {},
     "output_type": "execute_result"
    },
    {
     "data": {
      "image/png": "[encoded data removed]",
      "text/plain": [
       "<Figure size 576x288 with 1 Axes>"
      ]
     },
     "metadata": {
      "needs_background": "light"
     },
     "output_type": "display_data"
    }
   ],
   "source": [
    "f=plt.figure(figsize=(8,4))\n",
    "_=plt.hist(targetArr,bins=np.arange(0.0,360.0,5))\n",
    "plt.axvline(20,color='k',label='20 GeV')\n",
    "plt.axvline(10,color='r',label='10 GeV')\n",
    "plt.axvline(350,color='g',label='350 GeV')\n",
    "plt.legend(loc='center')"
   ]
  },
  {
   "cell_type": "markdown",
   "metadata": {},
   "source": [
    "## Making the layerwise dataset"
   ]
  },
  {
   "cell_type": "markdown",
   "metadata": {},
   "source": [
    "## Detector Layers"
   ]
  },
  {
   "cell_type": "code",
   "execution_count": 131,
   "metadata": {
    "code_folding": [
     1
    ]
   },
   "outputs": [
    {
     "data": {
      "text/plain": [
       "[]"
      ]
     },
     "execution_count": 131,
     "metadata": {},
     "output_type": "execute_result"
    },
    {
     "data": {
      "image/png": "[encoded data removed]",
      "text/plain": [
       "<Figure size 1152x360 with 2 Axes>"
      ]
     },
     "metadata": {
      "needs_background": "light"
     },
     "output_type": "display_data"
    }
   ],
   "source": [
    "fig,ax=plt.subplots(1,2,figsize=(16,5))\n",
    "for z in detectorLayers['z'] :\n",
    "    c='b'\n",
    "    if z > 600:\n",
    "        c='r'\n",
    "    ax[0].axvline(z,color=c)\n",
    "for z in detectorLayers['z'] :\n",
    "    c='b'\n",
    "    if z > 600:\n",
    "        break\n",
    "    ax[1].axvline(z,color=c)\n",
    "\n",
    "ax[0].set_xlabel('Z',loc='right')\n",
    "ax[0].set_yticks([])\n",
    "ax[1].set_xlabel('Z',loc='right')\n",
    "ax[1].set_yticks([])"
   ]
  },
  {
   "cell_type": "markdown",
   "metadata": {},
   "source": [
    "## Event Discription"
   ]
  },
  {
   "cell_type": "code",
   "execution_count": 90,
   "metadata": {
    "code_folding": [
     0
    ]
   },
   "outputs": [],
   "source": [
    "def plotEvent(events,idxs):\n",
    "    f,ax=plt.subplots(1,2,figsize=(16,5))\n",
    "    for z in detectorLayers['z'] :\n",
    "        c='b'\n",
    "        if z > 600:\n",
    "            c='r'\n",
    "        if z > 720:\n",
    "            break\n",
    "        ax[0].axvline(z,color=c,alpha=0.2)\n",
    "    for idx in idxs:    \n",
    "        ax[0].scatter(events['recHit_z'][idx],events['recHit_y'][idx],s=8,c='g')\n",
    "\n",
    "        ax_cBar=f.add_axes([ax[1].get_position().x1+0.005,ax[1].get_position().y0,\n",
    "                            0.01,ax[1].get_position().height])\n",
    "        # ax_cBar.set_yticks([])\n",
    "        cbar=ax[1].scatter(events['recHit_x'][idx],events['recHit_y'][idx],\n",
    "                           s=10,c=events['recHit_z'][idx]*10,\n",
    "                           cmap='cool',norm=matplotlib.colors.LogNorm(vmin=50,vmax=1000))\n",
    "    \n",
    "    ax[0].text(550,4,\"$e^+$ Beam\\n\"+f\"Energy : {events['target'][idx]:.2f} GeV\",\n",
    "               fontsize=12)\n",
    "    cbar.set_label('Z')\n",
    "    plt.colorbar(cbar,cax=ax_cBar)\n",
    "    ax_cBar.set_ylabel('Z')\n",
    "\n",
    "    ax[0].set_xlabel('Z',loc='right')\n",
    "    ax[0].set_ylabel('Y',loc='top')\n",
    "\n",
    "    ax[1].set_xlabel('X',loc='right')\n",
    "    ax[1].set_ylabel('Y',loc='top')"
   ]
  },
  {
   "cell_type": "code",
   "execution_count": 108,
   "metadata": {},
   "outputs": [
    {
     "data": {
      "image/png": "[encoded data removed]",
      "text/plain": [
       "<Figure size 1152x360 with 3 Axes>"
      ]
     },
     "metadata": {
      "needs_background": "light"
     },
     "output_type": "display_data"
    }
   ],
   "source": [
    "plotEvent(events,[10])"
   ]
  },
  {
   "cell_type": "markdown",
   "metadata": {},
   "source": [
    "## LayerwiseSplit"
   ]
  },
  {
   "cell_type": "code",
   "execution_count": 112,
   "metadata": {},
   "outputs": [
    {
     "name": "stdout",
     "output_type": "stream",
     "text": [
      "processing the layer 28 at 646.185 [ 592.610 / 679.722 ] "
     ]
    }
   ],
   "source": [
    "layerZs=detectorLayers['z']\n",
    "energySum={}\n",
    "nHitsInLayer={}\n",
    "N_LAYER_MAX=28\n",
    "Emin=80\n",
    "Emax=90\n",
    "for i in range(1,N_LAYER_MAX+1):\n",
    "    z_min=0.5*(layerZs[-1+i]+layerZs[i])\n",
    "    z_max=0.5*(layerZs[i]+layerZs[1+i])\n",
    "    print(f\"\\rprocessing the layer {i} at {layerZs[i]} [ {z_min:.3f} / {z_max:.3f} ] \",end=\"\")\n",
    "    layerMask= ( events['recHit_z'] >z_min) & ( events['recHit_z'] < z_max)\n",
    "    energyMask = ( events['target'] > Emin ) & ( events['target'] < Emax)\n",
    "    en_l=events['recHit_en'][energyMask][layerMask[energyMask]]\n",
    "    energySum[i]=ak.sum(en_l,axis=1).to_numpy()\n",
    "    nHitsInLayer[i]=ak.num(en_l).to_numpy()\n",
    "    "
   ]
  },
  {
   "cell_type": "code",
   "execution_count": 113,
   "metadata": {},
   "outputs": [
    {
     "data": {
      "text/plain": [
       "617"
      ]
     },
     "execution_count": 113,
     "metadata": {},
     "output_type": "execute_result"
    }
   ],
   "source": [
    "sum(energyMask)"
   ]
  },
  {
   "cell_type": "code",
   "execution_count": 128,
   "metadata": {},
   "outputs": [
    {
     "data": {
      "text/plain": [
       "<matplotlib.legend.Legend at 0x7fef5730ea00>"
      ]
     },
     "execution_count": 128,
     "metadata": {},
     "output_type": "execute_result"
    },
    {
     "data": {
      "image/png": "[encoded data removed]",
      "text/plain": [
       "<Figure size 1152x360 with 2 Axes>"
      ]
     },
     "metadata": {
      "needs_background": "light"
     },
     "output_type": "display_data"
    }
   ],
   "source": [
    "layerID=24\n",
    "fig,ax=plt.subplots(1,2,figsize=(16,5))\n",
    "\n",
    "for layerID in [10,15,20,25]:\n",
    "    _=ax[0].hist(nHitsInLayer[layerID],bins=np.arange(-0.5,100.5,1),alpha=0.8,label = f\"Layer {layerID}\")\n",
    "    _=ax[1].hist(energySum[layerID],alpha=0.7,label = f\"Layer {layerID}\",bins=np.arange(0.0,1400,20))\n",
    "\n",
    "ax[0].set_xlabel(f'N Hits in layer ',loc='right')\n",
    "ax[1].set_xlabel(f'Energy Deposit  ',loc='right')\n",
    "ax[0].set_ylabel(f'AU',loc='top')\n",
    "ax[1].set_ylabel(f'AU',loc='top')\n",
    "ax[0].legend()\n",
    "ax[1].legend()"
   ]
  },
  {
   "cell_type": "markdown",
   "metadata": {},
   "source": [
    "## Export the data"
   ]
  },
  {
   "cell_type": "code",
   "execution_count": 133,
   "metadata": {},
   "outputs": [],
   "source": [
    "nEventMax=int(len(f['nhits']))\n",
    "Stride=int(5e4)\n",
    "N_LAYER_MAX=28\n",
    "layerZs= [detectorLayers['z'][0]-10.0] + detectorLayers['z']\n",
    "\n",
    "energySumCollection={}\n",
    "nHitsInLayerCollection={}\n",
    "targetCollection={}"
   ]
  },
  {
   "cell_type": "code",
   "execution_count": 272,
   "metadata": {},
   "outputs": [
    {
     "name": "stdout",
     "output_type": "stream",
     "text": [
      "Processing the events between 0 and 50000 \n",
      "\tProcesing a total of 39965823 recHits\n",
      "\tprocessing the layer 28 at 539.035 [ 533.925 / 592.610 ] \n",
      "Processing the events between 50000 and 100000 \n",
      "\tProcesing a total of 39998420 recHits\n",
      "\tprocessing the layer 28 at 539.035 [ 533.925 / 592.610 ] \n",
      "Processing the events between 100000 and 150000 \n",
      "\tProcesing a total of 39998461 recHits\n",
      "\tprocessing the layer 28 at 539.035 [ 533.925 / 592.610 ] \n",
      "Processing the events between 150000 and 200000 \n",
      "\tProcesing a total of 39934322 recHits\n",
      "\tprocessing the layer 28 at 539.035 [ 533.925 / 592.610 ] \n",
      "Processing the events between 200000 and 250000 \n",
      "\tProcesing a total of 40009616 recHits\n",
      "\tprocessing the layer 28 at 539.035 [ 533.925 / 592.610 ] \n",
      "Processing the events between 250000 and 300000 \n",
      "\tProcesing a total of 39927675 recHits\n",
      "\tprocessing the layer 28 at 539.035 [ 533.925 / 592.610 ] \n",
      "Processing the events between 300000 and 350000 \n",
      "\tProcesing a total of 39996797 recHits\n",
      "\tprocessing the layer 28 at 539.035 [ 533.925 / 592.610 ] \n",
      "Processing the events between 350000 and 400000 \n",
      "\tProcesing a total of 39857212 recHits\n",
      "\tprocessing the layer 28 at 539.035 [ 533.925 / 592.610 ] \n",
      "Processing the events between 400000 and 450000 \n",
      "\tProcesing a total of 40142605 recHits\n",
      "\tprocessing the layer 28 at 539.035 [ 533.925 / 592.610 ] \n",
      "Processing the events between 450000 and 500000 \n",
      "\tProcesing a total of 40057474 recHits\n",
      "\tprocessing the layer 28 at 539.035 [ 533.925 / 592.610 ] \n",
      "Processing the events between 500000 and 550000 \n",
      "\tProcesing a total of 39948069 recHits\n",
      "\tprocessing the layer 28 at 539.035 [ 533.925 / 592.610 ] \n",
      "Processing the events between 550000 and 600000 \n",
      "\tProcesing a total of 39936774 recHits\n",
      "\tprocessing the layer 28 at 539.035 [ 533.925 / 592.610 ] \n",
      "Processing the events between 600000 and 648277 \n",
      "\tProcesing a total of 38502656 recHits\n",
      "\tprocessing the layer 28 at 539.035 [ 533.925 / 592.610 ] \n"
     ]
    }
   ],
   "source": [
    "evtIdx=0\n",
    "vars_Offset=0\n",
    "while evtIdx < nEventMax:\n",
    "    evtMin=evtIdx\n",
    "    evtMax=min(evtMin+Stride,nEventMax)\n",
    "    print(f\"Processing the events between {evtMin} and {evtMax} \")\n",
    "    nRecHits=np.array(f['nhits'][evtMin:evtMax],dtype=int)\n",
    "    sumRecHits=np.sum(nRecHits)\n",
    "    vars_OffsetHigh=vars_Offset+sumRecHits\n",
    "    print(f\"\\tProcesing a total of {sumRecHits} recHits\")\n",
    "    events={\n",
    "            'nRecHits'  : nRecHits,\n",
    "            'target'    : f['target'][evtMin:evtMax],\n",
    "            'recHit_en' : ak.unflatten(f['rechit_energy'][vars_Offset:vars_OffsetHigh],nRecHits),\n",
    "            'recHit_x'  : ak.unflatten(f['rechit_x'][vars_Offset:vars_OffsetHigh] ,nRecHits),\n",
    "            'recHit_y'  : ak.unflatten(f['rechit_y'][vars_Offset:vars_OffsetHigh] ,nRecHits),\n",
    "            'recHit_z'  : ak.unflatten(f['rechit_z'][vars_Offset:vars_OffsetHigh] ,nRecHits)*10\n",
    "        }\n",
    "    energySum={}\n",
    "    nHitsInLayer={}\n",
    "    for i in range(1,N_LAYER_MAX+1):\n",
    "        z_min=0.5*(layerZs[-1+i]+layerZs[i])\n",
    "        z_max=0.5*(layerZs[i]+layerZs[1+i])\n",
    "        print(f\"\\r\\tprocessing the layer {i} at {layerZs[i]} [ {z_min:.3f} / {z_max:.3f} ] \",end=\"\")\n",
    "        layerMask= ( events['recHit_z'] >z_min) & ( events['recHit_z'] < z_max)\n",
    "        en_l=events['recHit_en'][layerMask]\n",
    "        energySum[i]=ak.sum(en_l,axis=1).to_numpy()\n",
    "        nHitsInLayer[i]=ak.num(en_l).to_numpy()\n",
    "    \n",
    "    energySumCollection[evtMin]=energySum\n",
    "    nHitsInLayerCollection[evtMin]=nHitsInLayer\n",
    "    targetCollection[evtMin]=np.array(events['target'], copy=True)\n",
    "    evtIdx+=Stride\n",
    "    vars_Offset+=sumRecHits\n",
    "    print()\n",
    "    for ky in list(events.keys()):\n",
    "        del events[ky]\n",
    "#     break"
   ]
  },
  {
   "cell_type": "code",
   "execution_count": 270,
   "metadata": {},
   "outputs": [],
   "source": [
    "layerID=12\n",
    "y=np.concatenate([ energySumCollection[ky][layerID] for ky in energySumCollection]  )"
   ]
  },
  {
   "cell_type": "code",
   "execution_count": 277,
   "metadata": {},
   "outputs": [],
   "source": [
    "dataStore={}\n",
    "for layer in range(1,28+1):\n",
    "    dataStore[f'en_l{layer}']=np.concatenate([ energySumCollection[ky][layer] for ky in energySumCollection]  )\n",
    "dataStore['target']=np.concatenate( [targetCollection[ky] for ky in targetCollection] )    "
   ]
  },
  {
   "cell_type": "code",
   "execution_count": 285,
   "metadata": {},
   "outputs": [],
   "source": [
    "esum=np.sum([ dataStore[f'en_l{layer}']  for layer in range(1,28+1) ],axis=0)"
   ]
  },
  {
   "cell_type": "markdown",
   "metadata": {},
   "source": [
    "## Energy Sum vs Target"
   ]
  },
  {
   "cell_type": "code",
   "execution_count": 288,
   "metadata": {},
   "outputs": [
    {
     "data": {
      "text/plain": [
       "<matplotlib.collections.PathCollection at 0x7f8da85d5bb0>"
      ]
     },
     "execution_count": 288,
     "metadata": {},
     "output_type": "execute_result"
    },
    {
     "data": {
      "image/png": "[encoded data removed]",
      "text/plain": [
       "<Figure size 432x288 with 1 Axes>"
      ]
     },
     "metadata": {
      "needs_background": "light"
     },
     "output_type": "display_data"
    }
   ],
   "source": [
    "plt.scatter(dataStore['target'],esum)"
   ]
  },
  {
   "cell_type": "code",
   "execution_count": 291,
   "metadata": {},
   "outputs": [],
   "source": [
    "dataStoreToTrain={}\n",
    "dataStoreToTest={}\n",
    "testFraction=0.2\n",
    "for ky in dataStore:\n",
    "    nTest=int(len(dataStore[ky])*testFraction)\n",
    "    dataStoreToTest[ky]=dataStore[ky][:nTest]\n",
    "    dataStoreToTrain[ky]=dataStore[ky][nTest:]"
   ]
  },
  {
   "cell_type": "code",
   "execution_count": 295,
   "metadata": {},
   "outputs": [
    {
     "name": "stdout",
     "output_type": "stream",
     "text": [
      "\n",
      "\t  file exported  :  ../workarea/hgcal_electron_data_0001_train.root\n",
      "\n",
      "\t  file exported  :  ../workarea/hgcal_electron_data_0001_test.root\n"
     ]
    }
   ],
   "source": [
    "exportTree(dataStoreToTrain,'regressionTree','../workarea/hgcal_electron_data_0001_train.root')\n",
    "exportTree(dataStoreToTest,'regressionTree','../workarea/hgcal_electron_data_0001_test.root')"
   ]
  },
  {
   "cell_type": "code",
   "execution_count": 309,
   "metadata": {},
   "outputs": [],
   "source": [
    "oFile=h5py.File('../workarea/hgcal_electron_data_0001_train.h5','w')\n",
    "\n",
    "for ky in dataStoreToTrain:\n",
    "    oFile.create_dataset(ky,data=dataStoreToTrain[ky])\n",
    "\n",
    "oFile.attrs.update(detectorLayers)\n",
    "\n",
    "oFile.close()"
   ]
  },
  {
   "cell_type": "code",
   "execution_count": 313,
   "metadata": {},
   "outputs": [],
   "source": [
    "oFile=h5py.File('../workarea/hgcal_electron_data_0001_test.h5','w')\n",
    "for ky in dataStoreToTest:\n",
    "    oFile.create_dataset(ky,data=dataStoreToTest[ky])\n",
    "oFile.attrs.update(detectorLayers)\n",
    "oFile.close()"
   ]
  },
  {
   "cell_type": "code",
   "execution_count": null,
   "metadata": {},
   "outputs": [],
   "source": []
  }
 ],
 "metadata": {
  "kernelspec": {
   "display_name": "Python 3",
   "language": "python",
   "name": "python3"
  },
  "language_info": {
   "codemirror_mode": {
    "name": "ipython",
    "version": 3
   },
   "file_extension": ".py",
   "mimetype": "text/x-python",
   "name": "python",
   "nbconvert_exporter": "python",
   "pygments_lexer": "ipython3",
   "version": "3.8.10"
  }
 },
 "nbformat": 4,
 "nbformat_minor": 4
}
